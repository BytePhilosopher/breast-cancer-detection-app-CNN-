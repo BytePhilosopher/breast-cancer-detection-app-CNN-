{
 "cells": [
  {
   "cell_type": "markdown",
   "id": "421ff6a9",
   "metadata": {},
   "source": []
  },
  {
   "cell_type": "code",
   "execution_count": 7,
   "id": "48b87b4a",
   "metadata": {},
   "outputs": [],
   "source": [
    "import os\n",
    "import shutil\n",
    "import random\n",
    "import tensorflow as tf\n",
    "from tensorflow.keras.preprocessing.image import ImageDataGenerator\n",
    "from tensorflow.keras.models import Sequential\n",
    "from tensorflow.keras.layers import Conv2D, MaxPooling2D, Flatten, Dense, Dropout\n",
    "from tensorflow.keras.callbacks import ModelCheckpoint"
   ]
  },
  {
   "cell_type": "code",
   "execution_count": 8,
   "id": "0520d136",
   "metadata": {},
   "outputs": [],
   "source": [
    "DATA_DIR = \"../dataset\"\n",
    "# Temporary reduced dataset\n",
    "REDUCED_DATA_DIR = \"../reduced_dataset\"\n",
    "IMAGE_SIZE = (50, 50)\n",
    "BATCH_SIZE = 32\n",
    "EPOCHS = 10\n",
    "MODEL_PATH = \"../backend/model/model.h5\""
   ]
  },
  {
   "cell_type": "code",
   "execution_count": 15,
   "id": "4033756e",
   "metadata": {},
   "outputs": [],
   "source": [
    "def reduce_dataset():\n",
    "    print(\"📦 Reducing dataset to 10,000 samples (5,000 per class)...\")\n",
    "\n",
    "    # Remove and recreate reduced directory\n",
    "    if os.path.exists(REDUCED_DATA_DIR):\n",
    "        shutil.rmtree(REDUCED_DATA_DIR)\n",
    "    os.makedirs(REDUCED_DATA_DIR, exist_ok=True)\n",
    "\n",
    "    for label in [\"0\", \"1\"]:\n",
    "        src_dir = os.path.join(DATA_DIR, label)\n",
    "        dst_dir = os.path.join(REDUCED_DATA_DIR, label)\n",
    "        os.makedirs(dst_dir, exist_ok=True)\n",
    "\n",
    "        all_images = os.listdir(src_dir)\n",
    "        selected = random.sample(all_images, 5000)\n",
    "\n",
    "        for img_name in selected:\n",
    "            src_path = os.path.join(src_dir, img_name)\n",
    "            dst_path = os.path.join(dst_dir, img_name)\n",
    "            shutil.copy2(src_path, dst_path)\n"
   ]
  },
  {
   "cell_type": "code",
   "execution_count": 9,
   "id": "363239a0",
   "metadata": {},
   "outputs": [],
   "source": [
    "def build_model(input_shape):\n",
    "    model = Sequential([\n",
    "        Conv2D(32, (3, 3), activation='relu', input_shape=input_shape),\n",
    "        MaxPooling2D(2, 2),\n",
    "        Conv2D(64, (3, 3), activation='relu'),\n",
    "        MaxPooling2D(2, 2),\n",
    "        Flatten(),\n",
    "        Dense(128, activation='relu'),\n",
    "        Dropout(0.3),\n",
    "        Dense(1, activation='sigmoid')\n",
    "    ])\n",
    "    model.compile(optimizer='adam', loss='binary_crossentropy', metrics=['accuracy'])\n",
    "    return model"
   ]
  },
  {
   "cell_type": "code",
   "execution_count": 10,
   "id": "e656c977",
   "metadata": {},
   "outputs": [],
   "source": [
    "def train():\n",
    "    reduce_dataset()  # Step 1: create reduced dataset\n",
    "\n",
    "    datagen = ImageDataGenerator(rescale=1./255, validation_split=0.2)\n",
    "\n",
    "    train_gen = datagen.flow_from_directory(\n",
    "        REDUCED_DATA_DIR,\n",
    "        target_size=IMAGE_SIZE,\n",
    "        batch_size=BATCH_SIZE,\n",
    "        class_mode='binary',\n",
    "        subset='training'\n",
    "    )\n",
    "\n",
    "    val_gen = datagen.flow_from_directory(\n",
    "        REDUCED_DATA_DIR,\n",
    "        target_size=IMAGE_SIZE,\n",
    "        batch_size=BATCH_SIZE,\n",
    "        class_mode='binary',\n",
    "        subset='validation'\n",
    "    )\n",
    "\n",
    "    input_shape = (IMAGE_SIZE[0], IMAGE_SIZE[1], 3)\n",
    "    model = build_model(input_shape)\n",
    "\n",
    "    checkpoint = ModelCheckpoint(MODEL_PATH, monitor='val_accuracy', save_best_only=True)\n",
    "\n",
    "    model.fit(train_gen, validation_data=val_gen, epochs=EPOCHS, callbacks=[checkpoint])\n",
    "    print(f\"✅ Model saved to {MODEL_PATH}\")\n"
   ]
  },
  {
   "cell_type": "code",
   "execution_count": 13,
   "id": "01c5cc77",
   "metadata": {},
   "outputs": [
    {
     "ename": "NameError",
     "evalue": "name 'reduce_dataset' is not defined",
     "output_type": "error",
     "traceback": [
      "\u001b[31m---------------------------------------------------------------------------\u001b[39m",
      "\u001b[31mNameError\u001b[39m                                 Traceback (most recent call last)",
      "\u001b[36mCell\u001b[39m\u001b[36m \u001b[39m\u001b[32mIn[13]\u001b[39m\u001b[32m, line 2\u001b[39m\n\u001b[32m      1\u001b[39m \u001b[38;5;66;03m# Make sure all previous cells are run before this cell!\u001b[39;00m\n\u001b[32m----> \u001b[39m\u001b[32m2\u001b[39m \u001b[43mtrain\u001b[49m\u001b[43m(\u001b[49m\u001b[43m)\u001b[49m\n",
      "\u001b[36mCell\u001b[39m\u001b[36m \u001b[39m\u001b[32mIn[10]\u001b[39m\u001b[32m, line 2\u001b[39m, in \u001b[36mtrain\u001b[39m\u001b[34m()\u001b[39m\n\u001b[32m      1\u001b[39m \u001b[38;5;28;01mdef\u001b[39;00m\u001b[38;5;250m \u001b[39m\u001b[34mtrain\u001b[39m():\n\u001b[32m----> \u001b[39m\u001b[32m2\u001b[39m     \u001b[43mreduce_dataset\u001b[49m()  \u001b[38;5;66;03m# Step 1: create reduced dataset\u001b[39;00m\n\u001b[32m      4\u001b[39m     datagen = ImageDataGenerator(rescale=\u001b[32m1.\u001b[39m/\u001b[32m255\u001b[39m, validation_split=\u001b[32m0.2\u001b[39m)\n\u001b[32m      6\u001b[39m     train_gen = datagen.flow_from_directory(\n\u001b[32m      7\u001b[39m         REDUCED_DATA_DIR,\n\u001b[32m      8\u001b[39m         target_size=IMAGE_SIZE,\n\u001b[32m   (...)\u001b[39m\u001b[32m     11\u001b[39m         subset=\u001b[33m'\u001b[39m\u001b[33mtraining\u001b[39m\u001b[33m'\u001b[39m\n\u001b[32m     12\u001b[39m     )\n",
      "\u001b[31mNameError\u001b[39m: name 'reduce_dataset' is not defined"
     ]
    }
   ],
   "source": [
    "# Make sure all previous cells are run before this cell!\n",
    "train()"
   ]
  }
 ],
 "metadata": {
  "kernelspec": {
   "display_name": ".venv",
   "language": "python",
   "name": "python3"
  },
  "language_info": {
   "codemirror_mode": {
    "name": "ipython",
    "version": 3
   },
   "file_extension": ".py",
   "mimetype": "text/x-python",
   "name": "python",
   "nbconvert_exporter": "python",
   "pygments_lexer": "ipython3",
   "version": "3.12.11"
  }
 },
 "nbformat": 4,
 "nbformat_minor": 5
}
